{
 "cells": [
  {
   "cell_type": "code",
   "execution_count": 10,
   "metadata": {},
   "outputs": [],
   "source": [
    "%load_ext autoreload\n",
    "%autoreload 2\n"
   ]
  },
  {
   "cell_type": "code",
   "execution_count": 11,
   "metadata": {},
   "outputs": [],
   "source": [
    "from scraping import arxiv_abstracts\n",
    "from nlp import preprocessing"
   ]
  },
  {
   "cell_type": "code",
   "execution_count": 3,
   "metadata": {},
   "outputs": [
    {
     "name": "stderr",
     "output_type": "stream",
     "text": [
      "/home/rachel/.local/lib/python3.6/site-packages/bs4/__init__.py:181: UserWarning: No parser was explicitly specified, so I'm using the best available HTML parser for this system (\"html5lib\"). This usually isn't a problem, but if you run this code on another system, or in a different virtual environment, it may use a different parser and behave differently.\n",
      "\n",
      "The code that caused this warning is on line 193 of the file /usr/lib/python3.6/runpy.py. To get rid of this warning, change code that looks like this:\n",
      "\n",
      " BeautifulSoup(YOUR_MARKUP})\n",
      "\n",
      "to this:\n",
      "\n",
      " BeautifulSoup(YOUR_MARKUP, \"html5lib\")\n",
      "\n",
      "  markup_type=markup_type))\n"
     ]
    }
   ],
   "source": [
    "abstracts = arxiv_abstracts.get_abstracts_from_search()"
   ]
  },
  {
   "cell_type": "code",
   "execution_count": 14,
   "metadata": {},
   "outputs": [
    {
     "name": "stdout",
     "output_type": "stream",
     "text": [
      "[('system', 3), ('electrod', 3)]\n",
      "[('control', 6), ('wearabl', 4)]\n",
      "[('compress', 3), ('approach', 3)]\n",
      "[('use', 3), ('perform', 3)]\n",
      "[('emg', 7), ('nois', 6)]\n"
     ]
    }
   ],
   "source": [
    "fs = preprocessing.Frequifier()\n",
    "for t, a in abstracts.items():\n",
    "    print(fs.compute_frequencies_text(a).most_common(2))\n"
   ]
  },
  {
   "cell_type": "code",
   "execution_count": 15,
   "metadata": {
    "scrolled": true
   },
   "outputs": [
    {
     "name": "stdout",
     "output_type": "stream",
     "text": [
      " varieties of noises are major problem in recognition of electromyography\n",
      "(emg) signal.\n",
      "hence, methods to remove noise become most significant in emg\n",
      "signal analysis.\n",
      "white gaussian noise (wgn) is used to represent interference\n",
      "in this paper.\n",
      "generally, wgn is difficult to be removed using typical\n",
      "filtering and solutions to remove wgn are limited.\n",
      "in addition, noise removal\n",
      "is an important step before performing feature extraction, which is used in\n",
      "emg-based recognition.\n",
      "this research is aimed to present a novel feature that\n",
      "tolerate with wgn.\n",
      "as a result, noise removal algorithm is not needed.\n",
      "two\n",
      "novel mean and median frequencies (mmnf and mmdf) are presented for robust\n",
      "feature extraction.\n",
      "sixteen existing features and two novelties are evaluated\n",
      "in a noisy environment.\n",
      "wgn with various signal-to-noise ratios (snrs), i.e.\n",
      "20-0 db, was added to the original emg signal.\n",
      "the results showed that mmnf\n",
      "performed very well especially in weak emg signal compared with others.\n",
      "the\n",
      "error of mmnf in weak emg signal with very high noise, 0 db snr, is about 5-10\n",
      "percent and closed by mmdf and histogram, whereas the error of other features\n",
      "is more than 20 percent.\n",
      "while in strong emg signal, the error of mmnf is\n",
      "better than those from other features.\n",
      "moreover, the combination of mmnf,\n",
      "histrogram of emg and willison amplitude is used as feature vector in\n",
      "classification task.\n",
      "the experimental result shows the better recognition\n",
      "result in noisy environment than other success feature candidates.\n",
      "from the\n",
      "above results demonstrate that mmnf can be used for new robust feature\n",
      "extraction.\n"
     ]
    },
    {
     "data": {
      "text/plain": [
       "['20-0 db, was added to the original emg signal.',\n",
       " 'the\\nerror of mmnf in weak emg signal with very high noise, 0 db snr, is about 5-10\\npercent and closed by mmdf and histogram, whereas the error of other features\\nis more than 20 percent.']"
      ]
     },
     "execution_count": 15,
     "metadata": {},
     "output_type": "execute_result"
    }
   ],
   "source": [
    "fs.summarize(a, 2)"
   ]
  },
  {
   "cell_type": "code",
   "execution_count": null,
   "metadata": {},
   "outputs": [],
   "source": []
  }
 ],
 "metadata": {
  "kernelspec": {
   "display_name": "Python 3",
   "language": "python",
   "name": "python3"
  },
  "language_info": {
   "codemirror_mode": {
    "name": "ipython",
    "version": 3
   },
   "file_extension": ".py",
   "mimetype": "text/x-python",
   "name": "python",
   "nbconvert_exporter": "python",
   "pygments_lexer": "ipython3",
   "version": "3.6.5"
  }
 },
 "nbformat": 4,
 "nbformat_minor": 2
}
